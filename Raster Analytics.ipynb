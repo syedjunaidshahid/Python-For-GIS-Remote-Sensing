{
 "cells": [
  {
   "cell_type": "markdown",
   "metadata": {},
   "source": [
    "# Task 1"
   ]
  },
  {
   "cell_type": "code",
   "execution_count": 10,
   "metadata": {},
   "outputs": [],
   "source": [
    "import arcpy\n",
    "from arcpy.sa import *\n",
    "import os"
   ]
  },
  {
   "cell_type": "code",
   "execution_count": 2,
   "metadata": {},
   "outputs": [],
   "source": [
    "# Set the workspace to your data folder path\n",
    "arcpy.env.workspace = r\"C:\\Users\\syed_\\OneDrive - Saint Louis University\\Intro_Assign4\\Exercise09\"  \n",
    "\n",
    "# Allow overwriting of intermediate and output files\n",
    "arcpy.env.overwriteOutput = True  # Allow overwriting of intermediate and output files\n"
   ]
  },
  {
   "cell_type": "code",
   "execution_count": 5,
   "metadata": {},
   "outputs": [],
   "source": [
    "\n",
    "elevation_raster = Raster(\"elevation\")\n",
    "\n",
    "# Calculate slope in degrees\n",
    "slope_raster = Slope(elevation_raster)\n",
    "\n",
    "# Calculate aspect in degrees\n",
    "aspect_raster = Aspect(elevation_raster)\n"
   ]
  },
  {
   "cell_type": "code",
   "execution_count": 6,
   "metadata": {},
   "outputs": [],
   "source": [
    "moderate_slope_raster = Con((slope_raster >= 5) & (slope_raster <= 20), 1, 0)\n",
    "\n"
   ]
  },
  {
   "cell_type": "code",
   "execution_count": 7,
   "metadata": {},
   "outputs": [],
   "source": [
    "southerly_aspect_raster = Con((aspect_raster >= 150) & (aspect_raster <= 270), 1, 0)"
   ]
  },
  {
   "cell_type": "code",
   "execution_count": 8,
   "metadata": {},
   "outputs": [],
   "source": [
    "# Load the land cover raster\n",
    "landcover_raster = Raster(\"landcover.tif\")\n",
    "\n",
    "# Set the conditions for forested areas (41, 42, or 43)\n",
    "forested_raster = Con(((landcover_raster == 41) | (landcover_raster == 42) | (landcover_raster == 43)), landcover_raster)\n",
    "\n"
   ]
  },
  {
   "cell_type": "markdown",
   "metadata": {},
   "source": [
    "# Task 2"
   ]
  },
  {
   "cell_type": "code",
   "execution_count": 42,
   "metadata": {},
   "outputs": [
    {
     "name": "stdout",
     "output_type": "stream",
     "text": [
      "Copied Elevation to the geodatabase as Elevation.\n",
      "Copied landcover.tif to the geodatabase as landcover_tif.\n",
      "Copied tm.img to the geodatabase as tm_img.\n",
      "All rasters have been copied to the geodatabase.\n"
     ]
    }
   ],
   "source": [
    "import re\n",
    "\n",
    "# Set the workspace to your data folder path\n",
    "arcpy.env.workspace = r\"C:\\Users\\syed_\\OneDrive - Saint Louis University\\Intro_Assign4\\Exercise09\"\n",
    "\n",
    "# Define the name of the output geodatabase\n",
    "output_gdb_name = \"Output.gdb\"\n",
    "\n",
    "# Combine the workspace path with the geodatabase name\n",
    "output_gdb = arcpy.env.workspace + \"\\\\\" + output_gdb_name\n",
    "\n",
    "# Allow overwriting of intermediate and output files\n",
    "arcpy.env.overwriteOutput = True  # Allow overwriting of intermediate and output files\n",
    "\n",
    "# List all rasters in the workspace\n",
    "raster_list = arcpy.ListRasters()\n",
    "\n",
    "# Create the output geodatabase\n",
    "arcpy.CreateFileGDB_management(arcpy.env.workspace, output_gdb_name)\n",
    "\n",
    "# Iterate through the list of rasters and copy them to the geodatabase\n",
    "for raster in raster_list:\n",
    "   \n",
    "    #...........................................................#\n",
    "    # Was getting the following error as it was taking \".tif\" as part of the raster names \n",
    "    #and thus it was taking it as invalid characters. \n",
    "    #So here, I am modifying the names if they have any invalid characters. \n",
    "    \n",
    "    #ExecuteError: Failed to execute. Parameters are not valid. \n",
    "    #ERROR 000354: The name contains invalid characters \n",
    "    #Failed to execute (CopyRaster).\n",
    "    #...........................................................#\n",
    "    #Replace periods with underscores in the raster name\n",
    "    modified_raster_name = re.sub(r'\\.', '_', raster)\n",
    "\n",
    "    # Full path to the source raster\n",
    "    source_raster = arcpy.env.workspace + \"\\\\\" + raster\n",
    "\n",
    "    # Destination location in the geodatabase with the modified name\n",
    "    destination_raster = output_gdb + \"\\\\\" + modified_raster_name\n",
    "\n",
    "    # Copy the raster to the geodatabase\n",
    "    arcpy.CopyRaster_management(source_raster, destination_raster)\n",
    "    print(f\"Copied {raster} to the geodatabase as {modified_raster_name}.\")\n",
    "\n",
    "print(\"All rasters have been copied to the geodatabase.\")\n"
   ]
  },
  {
   "cell_type": "code",
   "execution_count": null,
   "metadata": {},
   "outputs": [],
   "source": []
  }
 ],
 "metadata": {
  "kernelspec": {
   "display_name": "ArcGISPro",
   "language": "Python",
   "name": "python3"
  },
  "language_info": {
   "file_extension": ".py",
   "name": "python",
   "version": "3"
  }
 },
 "nbformat": 4,
 "nbformat_minor": 2
}
