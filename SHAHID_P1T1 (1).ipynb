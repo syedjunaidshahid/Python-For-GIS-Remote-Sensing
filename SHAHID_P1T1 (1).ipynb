{
 "cells": [
  {
   "cell_type": "markdown",
   "metadata": {},
   "source": [
    "# Problem 1 - Task 1 \n",
    "\n"
   ]
  },
  {
   "cell_type": "markdown",
   "metadata": {},
   "source": [
    "You will implement your code in a Jupyter Notebook named LASTNAME_P1T1.ipynb, taking special care of commenting your code.\n",
    "\n",
    "Read geometries from tl_2019_mo_rail_points.shp"
   ]
  },
  {
   "cell_type": "code",
   "execution_count": 1,
   "metadata": {},
   "outputs": [],
   "source": [
    "# Import the required modules\n",
    "import arcpy\n",
    "\n",
    "# Define the workspace\n",
    "workspace = r\"C:\\Users\\syed_\\OneDrive - Saint Louis University\\Intro To Prog\\Project 2\""
   ]
  },
  {
   "cell_type": "markdown",
   "metadata": {},
   "source": [
    "1. Read geometries from tl_2019_mo_rail_points.shp"
   ]
  },
  {
   "cell_type": "code",
   "execution_count": 2,
   "metadata": {},
   "outputs": [],
   "source": [
    "#Define path to the shapefile\n",
    "data = r\"C:\\Users\\syed_\\OneDrive - Saint Louis University\\Intro To Prog\\Project 2\\tl_2019_mo_rail_points\\tl_2019_mo_rail_points.shp\"\n",
    "\n",
    "# Using SearchCursor to read geometries and ORIG_FID attribute from the shapefile\n",
    "with arcpy.da.SearchCursor(data, [\"SHAPE@\", \"ORIG_FID\"]) as cursor:\n",
    "    for row in cursor:\n",
    "        # Extract geometry and ORIG_FID from the current row\n",
    "        geometry = row[0]\n",
    "        orig_fid = row[1]"
   ]
  },
  {
   "cell_type": "markdown",
   "metadata": {},
   "source": [
    "2. Create a new 'Polyline' features class "
   ]
  },
  {
   "cell_type": "code",
   "execution_count": 5,
   "metadata": {},
   "outputs": [],
   "source": [
    "# Define path to save feature class\n",
    "\n",
    "path_to_polyline = r\"C:\\Users\\syed_\\OneDrive - Saint Louis University\\Intro To Prog\\Project 2\\tl_2019_mo_rail_points\"\n",
    "\n",
    "# Define the name of the new feature class\n",
    "poly_line = \"rail_line\"\n"
   ]
  },
  {
   "cell_type": "code",
   "execution_count": 7,
   "metadata": {},
   "outputs": [
    {
     "name": "stdout",
     "output_type": "stream",
     "text": [
      "'rail_line' created successfully in 'C:\\Users\\syed_\\OneDrive - Saint Louis University\\Intro To Prog\\Project 2\\tl_2019_mo_rail_points'.\n"
     ]
    }
   ],
   "source": [
    "\n",
    "# Create a new 'Polyline' feature class\n",
    "arcpy.CreateFeatureclass_management(path_to_polyline, poly_line, \"POLYLINE\")\n",
    "\n",
    "print(f\"'{poly_line}' created successfully in '{path_to_polyline}'.\")"
   ]
  },
  {
   "cell_type": "markdown",
   "metadata": {},
   "source": [
    "3. Convert points to a line (10 points)\n",
    "Note that you will only connect points with a line that have a matching ORIG_FID value"
   ]
  },
  {
   "cell_type": "code",
   "execution_count": 11,
   "metadata": {},
   "outputs": [],
   "source": [
    "# Dictionary to store points by ORIG_FID\n",
    "points_dict = {}\n",
    "\n",
    "# Read the points and group them by ORIG_FID\n",
    "with arcpy.da.SearchCursor(data, [\"SHAPE@\", \"ORIG_FID\"]) as cursor:\n",
    "    for row in cursor:\n",
    "        geometry, orig_fid = row\n",
    "        point = geometry.getPart(0)  # Extract the point object from the geometry\n",
    "        if orig_fid in points_dict:\n",
    "            points_dict [orig_fid].append(point)\n",
    "        else:\n",
    "            points_dict [orig_fid] = [point]\n"
   ]
  },
  {
   "cell_type": "code",
   "execution_count": 12,
   "metadata": {},
   "outputs": [
    {
     "name": "stdout",
     "output_type": "stream",
     "text": [
      "Created 3561 polylines.\n"
     ]
    }
   ],
   "source": [
    "# Create Polylines from grouped points\n",
    "polylines = []\n",
    "for orig_fid, point in points_dict .items():\n",
    "    # Convert the list of point objects to a polyline\n",
    "    polyline = arcpy.Polyline(arcpy.Array(point))\n",
    "    polylines.append(polyline)\n",
    "\n",
    "print(f\"Created {len(polylines)} polylines.\")"
   ]
  },
  {
   "cell_type": "markdown",
   "metadata": {},
   "source": [
    "4. Insert points into 'Polyline' feature class "
   ]
  },
  {
   "cell_type": "code",
   "execution_count": 13,
   "metadata": {},
   "outputs": [],
   "source": [
    "# Define the path to the Polyline feature class\n",
    "polyline_fc = r\"C:\\Users\\syed_\\OneDrive - Saint Louis University\\Intro To Prog\\Project 2\\tl_2019_mo_rail_points\\rail_line.shp\""
   ]
  },
  {
   "cell_type": "code",
   "execution_count": 14,
   "metadata": {},
   "outputs": [
    {
     "name": "stdout",
     "output_type": "stream",
     "text": [
      "Inserted 3561 polylines into the feature class.\n"
     ]
    }
   ],
   "source": [
    "# Use the InsertCursor to add polylines to the feature class\n",
    "with arcpy.da.InsertCursor(polyline_fc, [\"SHAPE@\"]) as cursor:\n",
    "    for line in polylines:\n",
    "        cursor.insertRow([line])\n",
    "\n",
    "print(f\"Inserted {len(polylines)} polylines into the feature class.\")"
   ]
  },
  {
   "cell_type": "markdown",
   "metadata": {},
   "source": [
    "5. Write the final line feature as a feature class"
   ]
  },
  {
   "cell_type": "code",
   "execution_count": 16,
   "metadata": {},
   "outputs": [
    {
     "name": "stdout",
     "output_type": "stream",
     "text": [
      "Polylines copied successfully.\n"
     ]
    }
   ],
   "source": [
    "# Define the path to the output feature class having polylines\n",
    "\n",
    "output_fc = r\"C:\\Users\\syed_\\OneDrive - Saint Louis University\\Intro To Prog\\Project 2\\tl_2019_mo_rail_points\\output_polyline_fc.shp\"\n",
    "\n",
    "# Use CopyFeatures_management to copy the polylines to a new feature class\n",
    "arcpy.CopyFeatures_management(polyline_fc, output_fc)\n",
    "\n",
    "print(f\"Polylines copied successfully.\")\n"
   ]
  },
  {
   "cell_type": "code",
   "execution_count": null,
   "metadata": {},
   "outputs": [],
   "source": []
  }
 ],
 "metadata": {
  "kernelspec": {
   "display_name": "ArcGISPro",
   "language": "Python",
   "name": "python3"
  },
  "language_info": {
   "file_extension": ".py",
   "name": "python",
   "version": "3"
  }
 },
 "nbformat": 4,
 "nbformat_minor": 2
}
