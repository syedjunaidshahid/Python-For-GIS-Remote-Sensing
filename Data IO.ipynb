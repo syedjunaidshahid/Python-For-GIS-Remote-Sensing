{
 "cells": [
  {
   "cell_type": "markdown",
   "metadata": {},
   "source": [
    "# 1.  Using the OSM.gdb as input, write a script that reads all the feature classes in a workspace and prints the name of each feature class and the geometry type of that feature class in the following format, for example: roads is a polyline feature class"
   ]
  },
  {
   "cell_type": "code",
   "execution_count": 139,
   "metadata": {
    "scrolled": true
   },
   "outputs": [
    {
     "name": "stdout",
     "output_type": "stream",
     "text": [
      "aeroway_line is a polyline feature class\n",
      "aeroway_point is a point feature class\n",
      "aeroway_polygon_polygon is a polygon feature class\n",
      "amenity_point is a point feature class\n",
      "amenity_polygon_polygon is a polygon feature class\n",
      "barrier_line is a polyline feature class\n",
      "barrier_point is a point feature class\n",
      "barrier_polygon_polygon is a polygon feature class\n",
      "boundary_line is a polyline feature class\n",
      "boundary_polygon_polygon is a polygon feature class\n",
      "building_point is a point feature class\n",
      "building_polygon_polygon is a polygon feature class\n",
      "craft_polygon_polygon is a polygon feature class\n",
      "highway_line is a polyline feature class\n",
      "highway_point is a point feature class\n",
      "highway_polygon_polygon is a polygon feature class\n",
      "historic_point is a point feature class\n",
      "landuse_line is a polyline feature class\n",
      "landuse_point is a point feature class\n",
      "landuse_polygon_polygon is a polygon feature class\n",
      "leisure_point is a point feature class\n",
      "leisure_polygon_polygon is a polygon feature class\n",
      "man_made_line is a polyline feature class\n",
      "man_made_point is a point feature class\n",
      "man_made_polygon_polygon is a polygon feature class\n",
      "natural_point is a point feature class\n",
      "natural_polygon_polygon is a polygon feature class\n",
      "office_point is a point feature class\n",
      "place_line is a polyline feature class\n",
      "place_point is a point feature class\n",
      "place_polygon_polygon is a polygon feature class\n",
      "power_line is a polyline feature class\n",
      "power_point is a point feature class\n",
      "power_polygon_polygon is a polygon feature class\n",
      "railway_line is a polyline feature class\n",
      "railway_point is a point feature class\n",
      "railway_polygon_polygon is a polygon feature class\n",
      "route_line is a polyline feature class\n",
      "shop_point is a point feature class\n",
      "shop_polygon_polygon is a polygon feature class\n",
      "sport_point is a point feature class\n",
      "sport_polygon_polygon is a polygon feature class\n",
      "tourism_point is a point feature class\n",
      "tourism_polygon_polygon is a polygon feature class\n",
      "waterway_line is a polyline feature class\n",
      "waterway_point is a point feature class\n",
      "waterway_polygon_polygon is a polygon feature class\n"
     ]
    }
   ],
   "source": [
    "import arcpy\n",
    "import os\n",
    "\n",
    "# Setting the workspace\n",
    "workspace = r'C:\\Users\\sshahid3\\Documents\\ArcGIS\\Projects\\Assigment 2 Data IO\\OSM\\OSM.gdb'\n",
    "\n",
    "# Setting arcpy environment settings\n",
    "arcpy.env.workspace = workspace\n",
    "arcpy.env.overwriteOutput = True\n",
    "\n",
    "# Dictionary mapping\n",
    "geometry_type_names = {\n",
    "    \"Point\": \"point\",\n",
    "    \"Polyline\": \"polyline\",\n",
    "    \"Polygon\": \"polygon\"   \n",
    "}\n",
    "\n",
    "# Listing all feature classes in the workspace\n",
    "feature_classes = arcpy.ListFeatureClasses()\n",
    "\n",
    "# Iterating through feature classes and print their names and geometry types\n",
    "for fc in feature_classes:\n",
    "    desc = arcpy.Describe(os.path.join(workspace, fc))\n",
    "    geometry_type = desc.shapeType\n",
    "    geometry_name = geometry_type_names.get(geometry_type, \"unknown\")\n",
    "    print(f\"{fc} is a {geometry_name} feature class\")\n",
    "\n"
   ]
  },
  {
   "cell_type": "markdown",
   "metadata": {},
   "source": [
    "# 2. Using the OSM.gdb as input, write a script that reads all the feature classes in a personal or file geodatabase and copies only the polygon feature classes to a new file geodatabase. You can assume there are no feature datasets in the exist-ing data, and the feature classes can keep the same name."
   ]
  },
  {
   "cell_type": "code",
   "execution_count": 138,
   "metadata": {},
   "outputs": [
    {
     "name": "stdout",
     "output_type": "stream",
     "text": [
      "Created output geodatabase: C:\\Users\\sshahid3\\Documents\\ArcGIS\\Projects\\Assigment 2 Data IO\\output.gdb\n",
      "Copying aeroway_polygon_polygon to the output geodatabase.\n",
      "Copying amenity_polygon_polygon to the output geodatabase.\n",
      "Copying barrier_polygon_polygon to the output geodatabase.\n",
      "Copying boundary_polygon_polygon to the output geodatabase.\n",
      "Copying building_polygon_polygon to the output geodatabase.\n",
      "Copying craft_polygon_polygon to the output geodatabase.\n",
      "Copying highway_polygon_polygon to the output geodatabase.\n",
      "Copying landuse_polygon_polygon to the output geodatabase.\n",
      "Copying leisure_polygon_polygon to the output geodatabase.\n",
      "Copying man_made_polygon_polygon to the output geodatabase.\n",
      "Copying natural_polygon_polygon to the output geodatabase.\n",
      "Copying place_polygon_polygon to the output geodatabase.\n",
      "Copying power_polygon_polygon to the output geodatabase.\n",
      "Copying railway_polygon_polygon to the output geodatabase.\n",
      "Copying shop_polygon_polygon to the output geodatabase.\n",
      "Copying sport_polygon_polygon to the output geodatabase.\n",
      "Copying tourism_polygon_polygon to the output geodatabase.\n",
      "Copying waterway_polygon_polygon to the output geodatabase.\n",
      "\n",
      "Polygon feature classes copied successfully.\n"
     ]
    }
   ],
   "source": [
    "# Setting the output geodatabase\n",
    "output_gdb = r'C:\\Users\\sshahid3\\Documents\\ArcGIS\\Projects\\Assigment 2 Data IO\\output.gdb'\n",
    "\n",
    "arcpy.CreateFileGDB_management(os.path.dirname(output_gdb), os.path.basename(output_gdb))\n",
    "print(f\"Created output geodatabase: {output_gdb}\")\n",
    "\n",
    "# Looping through the feature classes and copying polygon feature classes to the output geodatabase\n",
    "for fc in feature_classes:\n",
    "    desc = arcpy.Describe(fc)\n",
    "    if desc.shapeType == \"Polygon\":\n",
    "        arcpy.Copy_management(fc, os.path.join(output_gdb, fc))\n",
    "        print(f\"Copying {fc} to the output geodatabase.\")\n",
    "\n",
    "print(\"\\nPolygon feature classes copied successfully.\")"
   ]
  },
  {
   "cell_type": "code",
   "execution_count": null,
   "metadata": {},
   "outputs": [],
   "source": []
  }
 ],
 "metadata": {
  "kernelspec": {
   "display_name": "ArcGISPro",
   "language": "Python",
   "name": "python3"
  },
  "language_info": {
   "file_extension": ".py",
   "name": "python",
   "version": "3"
  }
 },
 "nbformat": 4,
 "nbformat_minor": 2
}
