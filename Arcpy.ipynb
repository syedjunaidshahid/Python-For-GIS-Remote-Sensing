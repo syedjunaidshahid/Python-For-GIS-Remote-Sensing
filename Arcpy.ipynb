{
 "cells": [
  {
   "cell_type": "markdown",
   "metadata": {},
   "source": [
    "# Task 1: Counting City Blocks"
   ]
  },
  {
   "cell_type": "code",
   "execution_count": 61,
   "metadata": {},
   "outputs": [],
   "source": [
    "import arcpy"
   ]
  },
  {
   "cell_type": "code",
   "execution_count": 62,
   "metadata": {},
   "outputs": [],
   "source": [
    "blocks= r'C:\\Users\\sshahid3\\Documents\\ArcGIS\\Projects\\MyProject13\\blocks_shape\\blocks.shp'"
   ]
  },
  {
   "cell_type": "code",
   "execution_count": 63,
   "metadata": {},
   "outputs": [],
   "source": [
    "numblocks = arcpy.GetCount_management(blocks)"
   ]
  },
  {
   "cell_type": "code",
   "execution_count": 64,
   "metadata": {},
   "outputs": [
    {
     "name": "stdout",
     "output_type": "stream",
     "text": [
      "The number of blocks in Saint Louis, MO is 5831 .\n"
     ]
    }
   ],
   "source": [
    "print('The number of blocks in Saint Louis, MO is', numblocks,\".\")"
   ]
  },
  {
   "cell_type": "markdown",
   "metadata": {},
   "source": [
    "# Task 2: Making Selections"
   ]
  },
  {
   "cell_type": "code",
   "execution_count": 65,
   "metadata": {},
   "outputs": [
    {
     "data": {
      "text/html": [
       "<div class='gpresult'><h2>Messages</h2><div id='messages' data-messages='[\"Start Time: Wednesday, September 6, 2023 2:39:23 PM\",\"Succeeded at Wednesday, September 6, 2023 2:39:23 PM (Elapsed Time: 0.04 seconds)\"]' data-show='true'><div id = 'default' /></div></div>"
      ],
      "text/plain": [
       "<Result 'blocks'>"
      ]
     },
     "execution_count": 65,
     "metadata": {},
     "output_type": "execute_result"
    }
   ],
   "source": [
    "arcpy.management.SelectLayerByAttribute(\n",
    "    in_layer_or_view=\"blocks\",\n",
    "    selection_type=\"NEW_SELECTION\",\n",
    "    where_clause=\"HANDLE > '1000000'\",\n",
    "    invert_where_clause=None\n",
    ")\n"
   ]
  },
  {
   "cell_type": "markdown",
   "metadata": {},
   "source": [
    "# Task 3: Counting City Blocks wrt. Handles"
   ]
  },
  {
   "cell_type": "markdown",
   "metadata": {},
   "source": [
    "Using the snippets above loop through the following list of handles: [1000000, 1200000, 1500000, 1600000, 1900000]\n",
    "\n",
    "Your loop count the number of features where handle>value, and print this value in the format:\n",
    "\n",
    "\"There are Y blocks with handles greater than X\""
   ]
  },
  {
   "cell_type": "code",
   "execution_count": 66,
   "metadata": {},
   "outputs": [],
   "source": [
    "#declaring a list named loh\n",
    "loh = [1000000,1200000,1500000,1600000,1900000]"
   ]
  },
  {
   "cell_type": "code",
   "execution_count": 67,
   "metadata": {},
   "outputs": [
    {
     "name": "stdout",
     "output_type": "stream",
     "text": [
      "There are 5831 blocks with handles greater than 1000000\n",
      "There are 4147 blocks with handles greater than 1200000\n",
      "There are 1550 blocks with handles greater than 1500000\n",
      "There are 535 blocks with handles greater than 1600000\n",
      "There are 43 blocks with handles greater than 1900000\n"
     ]
    }
   ],
   "source": [
    "#initiating a for loop that will have iterations equal to the number of elements in the list loh\n",
    "for value in loh:\n",
    "    #applying the SelectLayerByAttribute function \n",
    "    arcpy.management.SelectLayerByAttribute(\n",
    "        in_layer_or_view=\"blocks\",\n",
    "        #comparing \"value\" in current iteration with HANDLE value and selecting those rows in which HANDLE values are greater than the value in loh\n",
    "        selection_type=\"NEW_SELECTION\", \n",
    "        where_clause= f\"HANDLE > '{value}'\",\n",
    "        #keeping the invert selection box unchecked\n",
    "        invert_where_clause=None\n",
    "    )\n",
    "    #counting and printing the selected blocks\n",
    "    selected_count=arcpy.GetCount_management(\"blocks\")\n",
    "    count=int(selected_count.getOutput(0))\n",
    "    print(f\"There are {count} blocks with handles greater than {value}\")\n"
   ]
  },
  {
   "cell_type": "markdown",
   "metadata": {},
   "source": [
    "# Task 4: Counting Function"
   ]
  },
  {
   "cell_type": "code",
   "execution_count": 80,
   "metadata": {},
   "outputs": [
    {
     "name": "stdout",
     "output_type": "stream",
     "text": [
      "Enter the lower limit: 1500000\n",
      "There are 1550 blocks with HANDLES greater than 1500000\n"
     ]
    }
   ],
   "source": [
    "#Taking input\n",
    "input_value = input(\"Enter the lower limit: \")\n",
    "\n",
    "#Applying SelectLayerByAttribute function to select the blocks that are greater than the input value\n",
    "arcpy.management.SelectLayerByAttribute(\n",
    "    in_layer_or_view=\"blocks\",\n",
    "    selection_type=\"NEW_SELECTION\",\n",
    "    where_clause= f\"HANDLE > '{input_value}'\",\n",
    "    invert_where_clause=None\n",
    ")\n",
    "\n",
    "#Counting and printing the number of selected blocks\n",
    "selected_count=arcpy.GetCount_management(\"blocks\")\n",
    "count=int(selected_count.getOutput(0))\n",
    "if count == 0:\n",
    "    print(f\"There are no blocks with HANDLES greater than {input_value}\")\n",
    "else:\n",
    "    print(f\"There are {count} blocks with HANDLES greater than {input_value}\")\n"
   ]
  },
  {
   "cell_type": "code",
   "execution_count": null,
   "metadata": {},
   "outputs": [],
   "source": []
  },
  {
   "cell_type": "code",
   "execution_count": null,
   "metadata": {},
   "outputs": [],
   "source": []
  }
 ],
 "metadata": {
  "kernelspec": {
   "display_name": "ArcGISPro",
   "language": "Python",
   "name": "python3"
  },
  "language_info": {
   "file_extension": ".py",
   "name": "python",
   "version": "3"
  }
 },
 "nbformat": 4,
 "nbformat_minor": 2
}
