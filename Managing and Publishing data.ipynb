{
 "cells": [
  {
   "cell_type": "markdown",
   "metadata": {},
   "source": [
    "## Welcome to your notebook.\n"
   ]
  },
  {
   "cell_type": "markdown",
   "metadata": {},
   "source": [
    "#### Run this cell to connect to your GIS and get started:"
   ]
  },
  {
   "cell_type": "code",
   "execution_count": 1,
   "metadata": {},
   "outputs": [],
   "source": [
    "#Import necessary libraries \n",
    "from arcgis.gis import GIS\n",
    "#Authentication\n",
    "gis = GIS(\"home\")"
   ]
  },
  {
   "cell_type": "markdown",
   "metadata": {},
   "source": [
    "#### Now you are ready to start!"
   ]
  },
  {
   "cell_type": "code",
   "execution_count": 2,
   "metadata": {},
   "outputs": [],
   "source": [
    "from arcgis.gis import GIS\n",
    "from arcgis.geocoding import geocode\n",
    "from arcgis.features import FeatureLayerCollection\n",
    "import pandas as pd"
   ]
  },
  {
   "cell_type": "code",
   "execution_count": 3,
   "metadata": {},
   "outputs": [],
   "source": [
    "# File paths to the CSVs\n",
    "acquisitions_sjs = '/arcgis/home/Thunder_Acquisitions_SJS1115.csv'\n",
    "departures_sjs = '/arcgis/home/Thunder_Departed_SJS1115.csv'"
   ]
  },
  {
   "cell_type": "code",
   "execution_count": 4,
   "metadata": {},
   "outputs": [],
   "source": [
    "#Upload the csv file to the server\n",
    "acquisitions_sjs_ = gis.content.add({},acquisitions_sjs)"
   ]
  },
  {
   "cell_type": "code",
   "execution_count": 6,
   "metadata": {},
   "outputs": [
    {
     "data": {
      "text/html": [
       "<div class=\"item_container\" style=\"height: auto; overflow: hidden; border: 1px solid #cfcfcf; border-radius: 2px; background: #f6fafa; line-height: 1.21429em; padding: 10px;\">\n",
       "                    <div class=\"item_left\" style=\"width: 210px; float: left;\">\n",
       "                       <a href='https://www.arcgis.com/home/item.html?id=ecb5741e96a643d78c0c38d4e5aa3ce2' target='_blank'>\n",
       "                        <img src='http://static.arcgis.com/images/desktopapp.png' class=\"itemThumbnail\">\n",
       "                       </a>\n",
       "                    </div>\n",
       "\n",
       "                    <div class=\"item_right\"     style=\"float: none; width: auto; overflow: hidden;\">\n",
       "                        <a href='https://www.arcgis.com/home/item.html?id=ecb5741e96a643d78c0c38d4e5aa3ce2' target='_blank'><b>Thunder_Acquisitions_SJS1115</b>\n",
       "                        </a>\n",
       "                        <br/><img src='https://www.arcgis.com/home/js/arcgisonline/img/item-types/datafiles16.svg' style=\"vertical-align:middle;\" width=16 height=16>CSV by sshahid3@slu.edu_SLUSTL\n",
       "                        <br/>Last Modified: November 16, 2023\n",
       "                        <br/>0 comments, 0 views\n",
       "                    </div>\n",
       "                </div>\n",
       "                "
      ],
      "text/plain": [
       "<Item title:\"Thunder_Acquisitions_SJS1115\" type:CSV owner:sshahid3@slu.edu_SLUSTL>"
      ]
     },
     "execution_count": 6,
     "metadata": {},
     "output_type": "execute_result"
    }
   ],
   "source": [
    "#Display csv\n",
    "acquisitions_sjs_"
   ]
  },
  {
   "cell_type": "code",
   "execution_count": 7,
   "metadata": {},
   "outputs": [
    {
     "data": {
      "text/plain": [
       "'/arcgis/home/Thunder_Departed_SJS1115.csv'"
      ]
     },
     "execution_count": 7,
     "metadata": {},
     "output_type": "execute_result"
    }
   ],
   "source": [
    "#Uploading the csv to the server\n",
    "departures_sjs_ = gis.content.add({},departures_sjs)"
   ]
  },
  {
   "cell_type": "code",
   "execution_count": 8,
   "metadata": {},
   "outputs": [
    {
     "data": {
      "text/html": [
       "<div class=\"item_container\" style=\"height: auto; overflow: hidden; border: 1px solid #cfcfcf; border-radius: 2px; background: #f6fafa; line-height: 1.21429em; padding: 10px;\">\n",
       "                    <div class=\"item_left\" style=\"width: 210px; float: left;\">\n",
       "                       <a href='https://www.arcgis.com/home/item.html?id=04a884ebe1414e40a2e4d8fddeafc0d1' target='_blank'>\n",
       "                        <img src='http://static.arcgis.com/images/desktopapp.png' class=\"itemThumbnail\">\n",
       "                       </a>\n",
       "                    </div>\n",
       "\n",
       "                    <div class=\"item_right\"     style=\"float: none; width: auto; overflow: hidden;\">\n",
       "                        <a href='https://www.arcgis.com/home/item.html?id=04a884ebe1414e40a2e4d8fddeafc0d1' target='_blank'><b>Thunder_Departed_SJS1115</b>\n",
       "                        </a>\n",
       "                        <br/><img src='https://www.arcgis.com/home/js/arcgisonline/img/item-types/datafiles16.svg' style=\"vertical-align:middle;\" width=16 height=16>CSV by sshahid3@slu.edu_SLUSTL\n",
       "                        <br/>Last Modified: November 16, 2023\n",
       "                        <br/>0 comments, 0 views\n",
       "                    </div>\n",
       "                </div>\n",
       "                "
      ],
      "text/plain": [
       "<Item title:\"Thunder_Departed_SJS1115\" type:CSV owner:sshahid3@slu.edu_SLUSTL>"
      ]
     },
     "execution_count": 8,
     "metadata": {},
     "output_type": "execute_result"
    }
   ],
   "source": [
    "departures_sjs_"
   ]
  },
  {
   "cell_type": "code",
   "execution_count": 9,
   "metadata": {},
   "outputs": [],
   "source": [
    "#Setting parameters for publishing the csv\n",
    "acq_parameters_sjs =  {\n",
    "    \"type\": \"csv\",\n",
    "    \"name\": \" Thunder_Acquisitions_SJS1115\",\n",
    "    \"locationType\": \"address\",\n",
    "    \"addressTemplate\": \"{FromLocation}\"\n",
    "}"
   ]
  },
  {
   "cell_type": "code",
   "execution_count": 11,
   "metadata": {},
   "outputs": [],
   "source": [
    "# Publishing the acquisition Layer\n",
    "\n",
    "acq_sjs_lyr = acquisitions_sjs_.publish(acq_parameters_sjs)"
   ]
  },
  {
   "cell_type": "code",
   "execution_count": 12,
   "metadata": {},
   "outputs": [
    {
     "data": {
      "text/html": [
       "<div class=\"item_container\" style=\"height: auto; overflow: hidden; border: 1px solid #cfcfcf; border-radius: 2px; background: #f6fafa; line-height: 1.21429em; padding: 10px;\">\n",
       "                    <div class=\"item_left\" style=\"width: 210px; float: left;\">\n",
       "                       <a href='https://www.arcgis.com/home/item.html?id=fe69ecf286d04e6db93da086bd7c2312' target='_blank'>\n",
       "                        <img src='http://static.arcgis.com/images/desktopapp.png' class=\"itemThumbnail\">\n",
       "                       </a>\n",
       "                    </div>\n",
       "\n",
       "                    <div class=\"item_right\"     style=\"float: none; width: auto; overflow: hidden;\">\n",
       "                        <a href='https://www.arcgis.com/home/item.html?id=fe69ecf286d04e6db93da086bd7c2312' target='_blank'><b>Thunder_Acquisitions_SJS1115</b>\n",
       "                        </a>\n",
       "                        <br/><img src='https://www.arcgis.com/home/js/jsapi/esri/css/images/item_type_icons/featureshosted16.png' style=\"vertical-align:middle;\" width=16 height=16>Feature Layer Collection by sshahid3@slu.edu_SLUSTL\n",
       "                        <br/>Last Modified: November 16, 2023\n",
       "                        <br/>0 comments, 0 views\n",
       "                    </div>\n",
       "                </div>\n",
       "                "
      ],
      "text/plain": [
       "<Item title:\"Thunder_Acquisitions_SJS1115\" type:Feature Layer Collection owner:sshahid3@slu.edu_SLUSTL>"
      ]
     },
     "execution_count": 12,
     "metadata": {},
     "output_type": "execute_result"
    }
   ],
   "source": [
    "acq_sjs_lyr"
   ]
  },
  {
   "cell_type": "code",
   "execution_count": 10,
   "metadata": {},
   "outputs": [],
   "source": [
    "#Setting the parameters for publishing the departure layer\n",
    "dep_parameters_sjs = {\n",
    "    \"type\": \"csv\",\n",
    "    \"name\": \"Thunder_Departed_SJS1115\",\n",
    "    \"locationType\": \"address\",\n",
    "    \"addressTemplate\": \"{ToLocation}\"\n",
    "}"
   ]
  },
  {
   "cell_type": "code",
   "execution_count": 13,
   "metadata": {},
   "outputs": [],
   "source": [
    "# Publishing the Layer\n",
    "\n",
    "dep_sjs_lyr = departures_sjs_.publish(dep_parameters_sjs)"
   ]
  },
  {
   "cell_type": "code",
   "execution_count": 14,
   "metadata": {},
   "outputs": [
    {
     "data": {
      "text/html": [
       "<div class=\"item_container\" style=\"height: auto; overflow: hidden; border: 1px solid #cfcfcf; border-radius: 2px; background: #f6fafa; line-height: 1.21429em; padding: 10px;\">\n",
       "                    <div class=\"item_left\" style=\"width: 210px; float: left;\">\n",
       "                       <a href='https://www.arcgis.com/home/item.html?id=cec9883493ad46938f3ce9b6c0b0e955' target='_blank'>\n",
       "                        <img src='http://static.arcgis.com/images/desktopapp.png' class=\"itemThumbnail\">\n",
       "                       </a>\n",
       "                    </div>\n",
       "\n",
       "                    <div class=\"item_right\"     style=\"float: none; width: auto; overflow: hidden;\">\n",
       "                        <a href='https://www.arcgis.com/home/item.html?id=cec9883493ad46938f3ce9b6c0b0e955' target='_blank'><b>Thunder_Departed_SJS1115</b>\n",
       "                        </a>\n",
       "                        <br/><img src='https://www.arcgis.com/home/js/jsapi/esri/css/images/item_type_icons/featureshosted16.png' style=\"vertical-align:middle;\" width=16 height=16>Feature Layer Collection by sshahid3@slu.edu_SLUSTL\n",
       "                        <br/>Last Modified: November 16, 2023\n",
       "                        <br/>0 comments, 0 views\n",
       "                    </div>\n",
       "                </div>\n",
       "                "
      ],
      "text/plain": [
       "<Item title:\"Thunder_Departed_SJS1115\" type:Feature Layer Collection owner:sshahid3@slu.edu_SLUSTL>"
      ]
     },
     "execution_count": 14,
     "metadata": {},
     "output_type": "execute_result"
    }
   ],
   "source": [
    "dep_sjs_lyr"
   ]
  },
  {
   "cell_type": "code",
   "execution_count": 15,
   "metadata": {},
   "outputs": [
    {
     "data": {
      "application/vnd.jupyter.widget-view+json": {
       "model_id": "860712bd48b34cff89e7a3886c9dbe85",
       "version_major": 2,
       "version_minor": 0
      },
      "text/plain": [
       "MapView(layout=Layout(height='400px', width='100%'))"
      ]
     },
     "metadata": {},
     "output_type": "display_data"
    },
    {
     "data": {
      "text/html": [
       "<div class=\"map-static-img-preview-550184a1-4551-48c4-ab52-01cab5dee7c4\"><img src=\"\"></img></div>"
      ],
      "text/plain": [
       "<IPython.core.display.HTML object>"
      ]
     },
     "metadata": {},
     "output_type": "display_data"
    },
    {
     "data": {
      "text/html": [
       "<div class=\"map-html-embed-preview-550184a1-4551-48c4-ab52-01cab5dee7c4\"></div>"
      ],
      "text/plain": [
       "<IPython.core.display.HTML object>"
      ]
     },
     "metadata": {},
     "output_type": "display_data"
    }
   ],
   "source": [
    "#Initiating a map\n",
    "sjs_map = gis.map('USA')\n",
    "sjs_map"
   ]
  },
  {
   "cell_type": "code",
   "execution_count": 16,
   "metadata": {},
   "outputs": [],
   "source": [
    "# Adjusting the zoom level\n",
    "sjs_map.zoom = 2"
   ]
  },
  {
   "cell_type": "code",
   "execution_count": 17,
   "metadata": {},
   "outputs": [],
   "source": [
    "# Setting Renderer settings for Acquisition layer\n",
    "acquisitions_renderer = {\n",
    "    \"type\": \"simple\",\n",
    "    \"symbol\": {\n",
    "        \"type\": \"esriSMS\",\n",
    "        \"style\": \"esriSMSDiamond\",\n",
    "        \"color\": [255, 0, 0, 200], \n",
    "        \"size\": 10, \n",
    "        \"outline\": {\n",
    "            \"color\": [0, 255, 0, 255],\n",
    "            \"width\": 2  \n",
    "        }\n",
    "    }\n",
    "}\n",
    "\n",
    "# Renderer for Departure layer\n",
    "departures_renderer = {\n",
    "    \"type\": \"simple\",\n",
    "    \"symbol\": {\n",
    "        \"type\": \"esriSMS\",\n",
    "        \"style\": \"esriSMSCircle\",  \n",
    "        \"color\": [0, 255, 0, 200],  \n",
    "        \"size\": 10,  \n",
    "        \"outline\": {\n",
    "            \"color\": [255, 165, 0, 255],  \n",
    "            \"width\": 2  \n",
    "        }\n",
    "    }\n",
    "}"
   ]
  },
  {
   "cell_type": "code",
   "execution_count": 19,
   "metadata": {},
   "outputs": [],
   "source": [
    "# Adding the Acquisitions Layer to the Map with its Renderer\n",
    "sjs_map.add_layer(acq_sjs_lyr, {\"renderer\": acquisitions_renderer})\n",
    "\n",
    "# Adding the Departures Layer to the Map with its Renderer\n",
    "sjs_map.add_layer(dep_sjs_lyr, {\"renderer\": departures_renderer})"
   ]
  },
  {
   "cell_type": "code",
   "execution_count": 20,
   "metadata": {},
   "outputs": [
    {
     "data": {
      "application/vnd.jupyter.widget-view+json": {
       "model_id": "860712bd48b34cff89e7a3886c9dbe85",
       "version_major": 2,
       "version_minor": 0
      },
      "text/plain": [
       "MapView(jupyter_target='notebook', layout=Layout(height='400px', width='100%'), ready=True)"
      ]
     },
     "metadata": {},
     "output_type": "display_data"
    },
    {
     "data": {
      "text/html": [
       "<div class=\"map-static-img-preview-550184a1-4551-48c4-ab52-01cab5dee7c4\"><img src=\"\"></img></div>"
      ],
      "text/plain": [
       "<IPython.core.display.HTML object>"
      ]
     },
     "metadata": {},
     "output_type": "display_data"
    },
    {
     "data": {
      "text/html": [
       "<div class=\"map-html-embed-preview-550184a1-4551-48c4-ab52-01cab5dee7c4\"></div>"
      ],
      "text/plain": [
       "<IPython.core.display.HTML object>"
      ]
     },
     "metadata": {},
     "output_type": "display_data"
    }
   ],
   "source": [
    "sjs_map"
   ]
  },
  {
   "cell_type": "code",
   "execution_count": 21,
   "metadata": {},
   "outputs": [],
   "source": [
    "#Saving the webmap\n",
    "webmap_sjs = sjs_map.save(\n",
    "    {\n",
    "    'title': 'Assignment 7 - Shahid',\n",
    "    'snippet': 'Map for Acquisitions and Departures',\n",
    "    'tags': ['geocoding', 'addresses', 'spatial analysis']\n",
    "    }\n",
    ")"
   ]
  },
  {
   "cell_type": "code",
   "execution_count": 22,
   "metadata": {},
   "outputs": [
    {
     "data": {
      "text/html": [
       "<div class=\"item_container\" style=\"height: auto; overflow: hidden; border: 1px solid #cfcfcf; border-radius: 2px; background: #f6fafa; line-height: 1.21429em; padding: 10px;\">\n",
       "                    <div class=\"item_left\" style=\"width: 210px; float: left;\">\n",
       "                       <a href='https://www.arcgis.com/home/item.html?id=9c9a4a390fde45d78e70085c1796fd89' target='_blank'>\n",
       "                        <img src='http://static.arcgis.com/images/desktopapp.png' class=\"itemThumbnail\">\n",
       "                       </a>\n",
       "                    </div>\n",
       "\n",
       "                    <div class=\"item_right\"     style=\"float: none; width: auto; overflow: hidden;\">\n",
       "                        <a href='https://www.arcgis.com/home/item.html?id=9c9a4a390fde45d78e70085c1796fd89' target='_blank'><b>Assignment 7 - Shahid</b>\n",
       "                        </a>\n",
       "                        <br/>Map for Acquisitions and Departures<img src='https://www.arcgis.com/home/js/jsapi/esri/css/images/item_type_icons/maps16.png' style=\"vertical-align:middle;\" width=16 height=16>Web Map by sshahid3@slu.edu_SLUSTL\n",
       "                        <br/>Last Modified: November 16, 2023\n",
       "                        <br/>0 comments, 0 views\n",
       "                    </div>\n",
       "                </div>\n",
       "                "
      ],
      "text/plain": [
       "<Item title:\"Assignment 7 - Shahid\" type:Web Map owner:sshahid3@slu.edu_SLUSTL>"
      ]
     },
     "execution_count": 22,
     "metadata": {},
     "output_type": "execute_result"
    }
   ],
   "source": [
    "webmap_sjs"
   ]
  },
  {
   "cell_type": "code",
   "execution_count": null,
   "metadata": {},
   "outputs": [],
   "source": []
  }
 ],
 "metadata": {
  "esriNotebookRuntime": {
   "notebookRuntimeName": "ArcGIS Notebook Python 3 Standard",
   "notebookRuntimeVersion": "9.0"
  },
  "kernelspec": {
   "display_name": "Python 3 (ipykernel)",
   "language": "python",
   "name": "python3"
  },
  "language_info": {
   "codemirror_mode": {
    "name": "ipython",
    "version": 3
   },
   "file_extension": ".py",
   "mimetype": "text/x-python",
   "name": "python",
   "nbconvert_exporter": "python",
   "pygments_lexer": "ipython3",
   "version": "3.9.18"
  }
 },
 "nbformat": 4,
 "nbformat_minor": 2
}
