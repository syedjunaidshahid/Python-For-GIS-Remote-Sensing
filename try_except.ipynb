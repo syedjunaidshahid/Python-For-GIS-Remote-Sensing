{
 "cells": [
  {
   "attachments": {},
   "cell_type": "markdown",
   "metadata": {},
   "source": [
    "# This illustrates the utility of ```try-except```\n",
    "\n",
    "Data taken from: https://www.slmpd.org/Crimereports.shtml\n",
    "\n",
    "1. Run this so taht it works.\n",
    "2. The run it and it fails.\n",
    "3. Then run the next cell."
   ]
  },
  {
   "cell_type": "code",
   "execution_count": null,
   "metadata": {},
   "outputs": [],
   "source": [
    "import os\n",
    "import arcpy\n",
    "from arcpy import env\n",
    "\n",
    "#arcpy.env.overwriteOutput = True\n",
    "\n",
    "#input_table = r\"C:\\Answers\\fakelocation\\January2018.CSV\"\n",
    "input_table = r'path_week8\\February2020.CSV'\n",
    "#output_fc =  r\"C:\\Answers\\crime.gdb\\January2018_Crime\"\n",
    "output_fc = r'path_week8\\crime.gdb\\feb_2020'\n",
    "spRef = arcpy.SpatialReference(\"NAD 1983 StatePlane Missouri East FIPS 2401 (US Feet)\")\n",
    "\n",
    "gdb_name = os.path.dirname(output_fc)\n",
    "fc_name  = os.path.basename(output_fc)\n",
    "\n",
    "#env.overwriteOutput = True\n",
    "\n",
    "#try:\n",
    "print(\"Creating File GDB\")\n",
    "arcpy.CreateFileGDB_management(os.path.dirname(gdb_name),\n",
    "                            os.path.basename(gdb_name))\n",
    "\n",
    "##Create table from csv file\n",
    "print(gdb_name)\n",
    "table_name = \"January2018_Table\"\n",
    "out_table = os.path.join(gdb_name, table_name)\n",
    "print(\"Converting CSV to GDB Table\")\n",
    "arcpy.TableToTable_conversion(input_table, gdb_name, table_name, \"\", \"\", \"\")\n",
    "\n",
    "##Make XY events layer\n",
    "events_layer = \"crime_points\"\n",
    "print(\"Make FC Layer\")\n",
    "arcpy.MakeXYEventLayer_management(out_table, \"xcoord\", \"ycoord\", events_layer, \"\", \"\")\n",
    "\n",
    "##Output events layer to feature class\n",
    "print(\"FC to FC\")\n",
    "arcpy.FeatureClassToFeatureClass_conversion(events_layer, gdb_name, fc_name, \"\", \"\", \"\")\n",
    "\n",
    "##Define projection\n",
    "print(\"Defining Projection.\")\n",
    "arcpy.DefineProjection_management(output_fc, spRef)\n",
    "\n",
    "#except:\n",
    "#    print \"An Error Occured\"\n",
    "\n",
    "\n",
    "print(\"Done.\")\n"
   ]
  },
  {
   "cell_type": "code",
   "execution_count": 3,
   "metadata": {},
   "outputs": [
    {
     "name": "stdout",
     "output_type": "stream",
     "text": [
      "Creating File GDB\n",
      "An Error Occured\n",
      "Done.\n"
     ]
    }
   ],
   "source": [
    "import os\n",
    "import arcpy\n",
    "from arcpy import env\n",
    "\n",
    "input_table = r\"C:\\Answers\\fakelocation\\January2018.CSV\"\n",
    "output_fc =  r\"C:\\Answers\\crime.gdb\\January2018_Crime\"\n",
    "spRef = arcpy.SpatialReference(\"NAD 1983 StatePlane Missouri East FIPS 2401 (US Feet)\")\n",
    "\n",
    "gdb_name = os.path.dirname(output_fc)\n",
    "fc_name  = os.path.basename(output_fc)\n",
    "\n",
    "#env.overwriteOutput = True\n",
    "\n",
    "try:\n",
    "    print(\"Creating File GDB\")\n",
    "    arcpy.CreateFileGDB_management(os.path.dirname(gdb_name),\n",
    "                                os.path.basename(gdb_name))\n",
    "\n",
    "    ##Create table from csv file\n",
    "    print(gdb_name)\n",
    "    table_name = \"January2018_Table\"\n",
    "    out_table = os.path.join(gdb_name, table_name)\n",
    "    print(\"Converting CSV to GDB Table\")\n",
    "    arcpy.TableToTable_conversion(input_table, gdb_name, table_name, \"\", \"\", \"\")\n",
    "\n",
    "    ##Make XY events layer\n",
    "    events_layer = \"crime_points\"\n",
    "    print(\"Make FC Layer\")\n",
    "    arcpy.MakeXYEventLayer_management(out_table, \"xcoord\", \"ycoord\", events_layer, \"\", \"\")\n",
    "\n",
    "    ##Output events layer to feature class\n",
    "    print(\"FC to FC\")\n",
    "    arcpy.FeatureClassToFeatureClass_conversion(events_layer, gdb_name, fc_name, \"\", \"\", \"\")\n",
    "\n",
    "    ##Define projection\n",
    "    print(\"Defining Projection.\")\n",
    "    arcpy.DefineProjection_management(output_fc, spRef)\n",
    "\n",
    "except:\n",
    "    print(\"An Error Occured\")\n",
    "\n",
    "\n",
    "print(\"Done.\")\n"
   ]
  },
  {
   "cell_type": "code",
   "execution_count": null,
   "metadata": {},
   "outputs": [],
   "source": []
  }
 ],
 "metadata": {
  "kernelspec": {
   "display_name": "Python 3",
   "language": "python",
   "name": "python3"
  },
  "language_info": {
   "codemirror_mode": {
    "name": "ipython",
    "version": 3
   },
   "file_extension": ".py",
   "mimetype": "text/x-python",
   "name": "python",
   "nbconvert_exporter": "python",
   "pygments_lexer": "ipython3",
   "version": "3.9.11"
  }
 },
 "nbformat": 4,
 "nbformat_minor": 4
}
